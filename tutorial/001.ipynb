{
 "cells": [
  {
   "cell_type": "markdown",
   "metadata": {
    "id": "4eYFeeI2fSuL"
   },
   "source": [
    "## 大規模SAアニーリングTYTANチュートリアル\n",
    "\n",
    "### シュミレイテッドアニーリング概要\n",
    "シュミレイテッドアニーリング(SA)とは、組合せ最適化問題の解を求める手法です。  \n",
    "組合せ最適化問題は、計算理論上NP困難と呼ばれる、組合せが多くなるにつれて計算量が指数関数的に増加してしまう問題があります。  \n",
    "SAはこのNP困難の問題を解決するわけではなく、組み合わせ最適化問題の最適解(大域最適解)が得られる保証はありません、SAは近似解を求められる手法です。  \n",
    "\n",
    "しかし、現実問題の多くは、問題の解き方そのものが分からないケースも多く、SAは実用する上では問題のない答えを得られる場合もあります。"
   ]
  },
  {
   "cell_type": "markdown",
   "metadata": {
    "id": "w0vA3Ye7hJYi"
   },
   "source": [
    "### 組合せ最適化問題の解き方\n",
    "SAで組み合わせ最適化問題を解く際には、コストと制約条件を定義します。  \n",
    "コストは組合せ最適化問題の解を評価するための数式で、求まる解が良いか悪いかを定義できる数式です。\n",
    "\n",
    "制約条件は、満たさないと解と認められない条件のことで、こちらも数式で定義します。\n"
   ]
  },
  {
   "cell_type": "markdown",
   "metadata": {
    "id": "sSSMKBAV6xBT"
   },
   "source": [
    "### コスト関数の例\n",
    "0か1をとる変数$q_0,q_1,q_2$があるときに、\n",
    "隣接する変数の値がすべて1となる変数の組み合わせのコスト関数Cは、隣接する変数の積にマイナスを掛けたもになります。\n",
    "$$\n",
    "C=-q_0q_1-q_0q_2-q_1q_2\n",
    "$$\n",
    "この例ははじめから、求める$q_0,q_1,q_2$の組み合わせは、$\\{1,1,1\\}$と分かっています。このときのコスト関数の値は、$C=-3$となり、$q_0,q_1,q_2$が$\\{1,1,1\\}$のときに最小値になることが分かります。  \n",
    "このように、コスト関数は、求める状態が最小になるように定式化した式のことです。  \n",
    "現実問題を解くときは当然、求める状態が分かっていないために、このコスト関数を定式化することで、SAを行うことでコスト関数が最小となるような状態を求めようと働きます。\n",
    "\n",
    "### 制約条件の例\n",
    "制約条件とは、たとえコスト関数が最小になったとしても、解とは認められない条件のことです。\n",
    "コスト関数に制約条件の式を加えることで、制約条件を満たすような、状態を求めることができます。\n",
    "コスト関数が、\n",
    "$$\n",
    "C=4q_0q_1-3q_1q_3+2q_2-q_3\n",
    "$$  \n",
    "\n",
    "で定式化されているときに、制約条件$D$が下記とします。\n",
    "$$\n",
    "D=(2q_0+q_1+q_2-2)^2\n",
    "$$  \n",
    "  \n",
    "\n",
    "制約条件があるときには、コスト関数が最小になるように働きますが、制約条件が2乗で与えられているために、2乗のカッコの中が0になるようにSAが動作します。\n",
    "\n",
    "\n",
    "コスト関数と制約条件を足した\n",
    "$$\n",
    "H=C+D\n",
    "$$\n",
    "がなるべく最小になるようにSAが動くようになります。"
   ]
  },
  {
   "cell_type": "markdown",
   "metadata": {},
   "source": [
    "### QUBO式\n",
    "上のコストと制約式を合わせた式$H$は、エネルギーもしくはハミルトニアンと呼ばれることもあります。  \n",
    "SAのもととなるイジングモデルと呼ばれる物理モデルから由来しているためです。  \n",
    "コスト関数と制約式は、どんなものでもSAで解けるわけではありません。  \n",
    "コスト関数と制約式が2次形式と呼ばれる形に限られます。  \n",
    "そのため、SAで解ける式のことを二次形式の制約なし二値変数最適化（Quadratic Unconstrained Binary Optimization）からQUBO式ともいいます。  \n",
    "QUBO式は、一般に以下のようにあらわされます。\n",
    "\n",
    "$$\n",
    "H= \\sum_{i,j} w_{i,j} q_i q_j\n",
    "$$\n",
    "\n",
    "また、$i$と$j$の要素に対する行列にもなっているため、QUBO行列と呼ばれることがあります。  \n",
    "以上で説明した2次形式は、組合せ最適化問題の多くはこの形式に変換できることが知られています。"
   ]
  },
  {
   "cell_type": "markdown",
   "metadata": {
    "id": "Dt5W4E1jzFxD"
   },
   "source": [
    "### 実際にTYTANで問題を解いてみる。\n",
    "制約条件とコスト関数をもとめたら、実際にTYTANに解かせてみます。  \n",
    "はじめに、TYTANモジュールをインストールします。"
   ]
  },
  {
   "cell_type": "code",
   "execution_count": 1,
   "metadata": {
    "colab": {
     "base_uri": "https://localhost:8080/"
    },
    "id": "8kpw5ywznjR_",
    "outputId": "d34a4716-8ddd-4b49-b3b7-914321c457f1",
    "scrolled": true
   },
   "outputs": [
    {
     "name": "stdout",
     "output_type": "stream",
     "text": [
      "Collecting git+https://github.com/tytansdk/tytan.git\n",
      "  Cloning https://github.com/tytansdk/tytan.git to c:\\users\\005087\\appdata\\local\\temp\\pip-req-build-buj8ox9_\n",
      "  Resolved https://github.com/tytansdk/tytan.git to commit a7cd389f3bd7d76638822667983f77df4daa6a09\n",
      "Requirement already satisfied: anyio==3.6.2 in c:\\users\\005087\\anaconda3\\lib\\site-packages (from tytan==0.0.5) (3.6.2)\n",
      "Requirement already satisfied: certifi==2022.12.7 in c:\\users\\005087\\anaconda3\\lib\\site-packages (from tytan==0.0.5) (2022.12.7)\n",
      "Requirement already satisfied: h11==0.14.0 in c:\\users\\005087\\anaconda3\\lib\\site-packages (from tytan==0.0.5) (0.14.0)\n",
      "Collecting httpcore==0.16.3\n",
      "  Using cached httpcore-0.16.3-py3-none-any.whl (69 kB)\n",
      "Collecting httpx==0.23.3\n",
      "  Using cached httpx-0.23.3-py3-none-any.whl (71 kB)\n",
      "Requirement already satisfied: idna==3.4 in c:\\users\\005087\\anaconda3\\lib\\site-packages (from tytan==0.0.5) (3.4)\n",
      "Collecting mpmath==1.3.0\n",
      "  Using cached mpmath-1.3.0-py3-none-any.whl (536 kB)\n",
      "Requirement already satisfied: numpy==1.24.2 in c:\\users\\005087\\anaconda3\\lib\\site-packages (from tytan==0.0.5) (1.24.2)\n",
      "Requirement already satisfied: pandas==1.5.3 in c:\\users\\005087\\anaconda3\\lib\\site-packages (from tytan==0.0.5) (1.5.3)\n",
      "Requirement already satisfied: python-dateutil==2.8.2 in c:\\users\\005087\\anaconda3\\lib\\site-packages (from tytan==0.0.5) (2.8.2)\n",
      "Requirement already satisfied: pytz==2022.7.1 in c:\\users\\005087\\anaconda3\\lib\\site-packages (from tytan==0.0.5) (2022.7.1)\n",
      "Requirement already satisfied: rfc3986==1.5.0 in c:\\users\\005087\\anaconda3\\lib\\site-packages (from tytan==0.0.5) (1.5.0)\n",
      "Requirement already satisfied: six==1.16.0 in c:\\users\\005087\\anaconda3\\lib\\site-packages (from tytan==0.0.5) (1.16.0)\n",
      "Requirement already satisfied: sniffio==1.3.0 in c:\\users\\005087\\anaconda3\\lib\\site-packages (from tytan==0.0.5) (1.3.0)\n",
      "Collecting sympy==1.11.1\n",
      "  Using cached sympy-1.11.1-py3-none-any.whl (6.5 MB)\n",
      "Collecting ulid-py==1.1.0\n",
      "  Using cached ulid_py-1.1.0-py2.py3-none-any.whl (25 kB)\n",
      "Building wheels for collected packages: tytan\n",
      "  Building wheel for tytan (setup.py): started\n",
      "  Building wheel for tytan (setup.py): finished with status 'done'\n",
      "  Created wheel for tytan: filename=tytan-0.0.5-py3-none-any.whl size=14852 sha256=c78bc49fc1e60e366908753128e849c1f71373ee11ad6764da3f29ea43dbb14c\n",
      "  Stored in directory: C:\\Users\\005087\\AppData\\Local\\Temp\\pip-ephem-wheel-cache-9e6088kl\\wheels\\82\\f8\\64\\a3349ef2564f4525272b3140f2bfae4619c86ddb9caa137ecd\n",
      "Successfully built tytan\n",
      "Installing collected packages: mpmath, httpcore, ulid-py, sympy, httpx, tytan\n",
      "  Attempting uninstall: mpmath\n",
      "    Found existing installation: mpmath 1.2.1\n",
      "    Uninstalling mpmath-1.2.1:\n",
      "      Successfully uninstalled mpmath-1.2.1\n",
      "  Attempting uninstall: sympy\n",
      "    Found existing installation: sympy 1.10.1\n",
      "    Uninstalling sympy-1.10.1:\n",
      "      Successfully uninstalled sympy-1.10.1\n",
      "Successfully installed httpcore-0.16.3 httpx-0.23.3 mpmath-1.3.0 sympy-1.11.1 tytan-0.0.5 ulid-py-1.1.0\n"
     ]
    },
    {
     "name": "stderr",
     "output_type": "stream",
     "text": [
      "WARNING: Ignoring invalid distribution -pencv-python-headless (c:\\users\\005087\\appdata\\roaming\\python\\python39\\site-packages)\n",
      "WARNING: Ignoring invalid distribution -pencv-python-headless (c:\\users\\005087\\appdata\\roaming\\python\\python39\\site-packages)\n",
      "  Running command git clone -q https://github.com/tytansdk/tytan.git 'C:\\Users\\005087\\AppData\\Local\\Temp\\pip-req-build-buj8ox9_'\n",
      "WARNING: Ignoring invalid distribution -pencv-python-headless (c:\\users\\005087\\appdata\\roaming\\python\\python39\\site-packages)\n",
      "    WARNING: Ignoring invalid distribution -pencv-python-headless (c:\\users\\005087\\appdata\\roaming\\python\\python39\\site-packages)\n",
      "    WARNING: Ignoring invalid distribution -pencv-python-headless (c:\\users\\005087\\appdata\\roaming\\python\\python39\\site-packages)\n",
      "WARNING: Ignoring invalid distribution -pencv-python-headless (c:\\users\\005087\\appdata\\roaming\\python\\python39\\site-packages)\n",
      "WARNING: Ignoring invalid distribution -pencv-python-headless (c:\\users\\005087\\appdata\\roaming\\python\\python39\\site-packages)\n",
      "WARNING: Ignoring invalid distribution -pencv-python-headless (c:\\users\\005087\\appdata\\roaming\\python\\python39\\site-packages)\n"
     ]
    }
   ],
   "source": [
    "!pip install git+https://github.com/tytansdk/tytan.git"
   ]
  },
  {
   "cell_type": "code",
   "execution_count": 7,
   "metadata": {
    "colab": {
     "base_uri": "https://localhost:8080/"
    },
    "id": "4KPuSj7gnopG",
    "outputId": "f73d83bb-84eb-4218-ec62-5887505b1689"
   },
   "outputs": [
    {
     "name": "stdout",
     "output_type": "stream",
     "text": [
      "{'energy': -42.0, 'result': {'q_{0}': 0, 'q_{1}': 1, 'q_{2}': 1, 'q_{3}': 1}, 'time': 3.7242937088012695}\n"
     ]
    }
   ],
   "source": [
    "from tytan import *\n",
    "import sympy as sym\n",
    "\n",
    "# 変数を定義 q_0, q_1, q_2, q_3\n",
    "q = sym.symbols(\"q_{0:4}\")\n",
    "\n",
    "#式を記述\n",
    "#コスト関数\n",
    "C= 4*q[0]*q[1]-3*q[1]*q[3]+2*q[2]-q[3]\n",
    "\n",
    "#制約条件\n",
    "D=(2*q[0]+q[1]+q[2]-2)**2\n",
    "\n",
    "#式を結合\n",
    "H = C+5*D\n",
    "\n",
    "# Compileクラスを使用して、QUBOを取得\n",
    "Q, offset = qubo.Compile(H).get_qubo()\n",
    "\n",
    "API_KEY = \"API key\"\n",
    "\n",
    "# サンプラーを選択\n",
    "solver = sampler.NQSSampler()\n",
    "\n",
    "# 計算\n",
    "result = solver.run(Q, api_key=API_KEY)\n",
    "print(result)"
   ]
  },
  {
   "cell_type": "markdown",
   "metadata": {
    "id": "Fw_XyMpI3j7v"
   },
   "source": [
    "### 結果の確認\n",
    "結果をみると、energyとありますが、これは、求まった状態に対するコスト関数と制約条件の式の数値が表示されています。  \n",
    "\n",
    "状態は、$\\{q_0,q_1,q_2,q_3  \\}=\\{0,1,1,1\\}$です。\n",
    "制約条件\n",
    "$$\n",
    "D=(2q_0+q_1+q_2-2)^2  \n",
    "$$\n",
    "$$\n",
    "=(2*0+1+1-2)^2\n",
    "$$\n",
    "\n",
    "$$\n",
    "=0\n",
    "$$\n",
    "と0になり制約が満たされていることが分かります。"
   ]
  },
  {
   "cell_type": "markdown",
   "metadata": {
    "id": "ODq-DHbW6Q2K"
   },
   "source": [
    "このようにTYTANによるSAでは、解きたい問題のコストと制約を与えるだけで、その式に応じた結果が得られます。  \n",
    "このあとは、現実問題で応用できそうな組み合わせ問題を解く例を見ていきます。"
   ]
  },
  {
   "cell_type": "code",
   "execution_count": null,
   "metadata": {
    "id": "76kPbOvA6nTR"
   },
   "outputs": [],
   "source": []
  }
 ],
 "metadata": {
  "colab": {
   "provenance": []
  },
  "kernelspec": {
   "display_name": "Python 3 (ipykernel)",
   "language": "python",
   "name": "python3"
  },
  "language_info": {
   "codemirror_mode": {
    "name": "ipython",
    "version": 3
   },
   "file_extension": ".py",
   "mimetype": "text/x-python",
   "name": "python",
   "nbconvert_exporter": "python",
   "pygments_lexer": "ipython3",
   "version": "3.9.12"
  }
 },
 "nbformat": 4,
 "nbformat_minor": 1
}
